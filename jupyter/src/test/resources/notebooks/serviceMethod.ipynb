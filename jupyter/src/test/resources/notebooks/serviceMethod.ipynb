{
 "cells": [
  {
   "cell_type": "code",
   "execution_count": 52,
   "metadata": {},
   "outputs": [
    {
     "ename": "groovy.lang.MissingMethodException",
     "evalue": " No signature of method",
     "output_type": "error",
     "text": "groovy.lang.MissingMethodException: No signature of method: script1573517711998.service() is applicable for argument types: (Class) values: [class ai.stainless.micronaut.jupyter.InstallKernel]\n\tat this cell line 2\n\tat com.twosigma.beakerx.groovy.evaluator.GroovyCodeRunner.runScript(GroovyCodeRunner.java:94)\n\tat com.twosigma.beakerx.groovy.evaluator.GroovyCodeRunner.call(GroovyCodeRunner.java:59)\n\tat com.twosigma.beakerx.groovy.evaluator.GroovyCodeRunner.call(GroovyCodeRunner.java:32)\n",
     "traceback": [
      "\u001b[1;31mgroovy.lang.MissingMethodException: No signature of method: script1573517711998.service() is applicable for argument types: (Class) values: [class ai.stainless.micronaut.jupyter.InstallKernel]\u001b[0;0m",
      "\u001b[1;31m\tat this cell line 2\u001b[0;0m",
      "\u001b[0;31m\tat com.twosigma.beakerx.groovy.evaluator.GroovyCodeRunner.runScript(GroovyCodeRunner.java:94)\u001b[0;0m",
      "\u001b[0;31m\tat com.twosigma.beakerx.groovy.evaluator.GroovyCodeRunner.call(GroovyCodeRunner.java:59)\u001b[0;0m",
      "\u001b[0;31m\tat com.twosigma.beakerx.groovy.evaluator.GroovyCodeRunner.call(GroovyCodeRunner.java:32)\u001b[0;0m"
     ]
    }
   ],
   "source": [
    "import ai.stainless.micronaut.jupyter.InstallKernel\n",
    "def className = service InstallKernel \"class\"\n",
    "println className"
   ]
  },
  {
   "cell_type": "code",
   "execution_count": null,
   "metadata": {},
   "outputs": [],
   "source": []
  }
 ],
 "metadata": {
  "kernelspec": {
   "display_name": "Micronaut",
   "language": "groovy",
   "name": "micronaut"
  },
  "language_info": {
   "codemirror_mode": "groovy",
   "file_extension": ".groovy",
   "mimetype": "",
   "name": "Groovy",
   "nbconverter_exporter": "",
   "version": "2.5.6"
  }
 },
 "nbformat": 4,
 "nbformat_minor": 4
}
