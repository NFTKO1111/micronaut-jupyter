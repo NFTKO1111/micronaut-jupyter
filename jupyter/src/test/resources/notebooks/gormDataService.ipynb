{
 "cells": [
  {
   "cell_type": "code",
   "execution_count": 1,
   "metadata": {},
   "outputs": [
    {
     "name": "stdout",
     "output_type": "stream",
     "text": [
      "ai.stainless.micronaut.jupyter.gorm.$FriendServiceImplementation@4a38935"
     ]
    },
    {
     "data": {
      "text/plain": [
       "null"
      ]
     },
     "execution_count": 1,
     "metadata": {},
     "output_type": "execute_result"
    }
   ],
   "source": [
    "friends = service ai.stainless.micronaut.jupyter.gorm.FriendService\n",
    "\n",
    "print friends"
   ]
  },
  {
   "cell_type": "code",
   "execution_count": 2,
   "metadata": {},
   "outputs": [
    {
     "data": {
      "text/plain": [
       "ai.stainless.micronaut.jupyter.gorm.Person : 4"
      ]
     },
     "execution_count": 2,
     "metadata": {},
     "output_type": "execute_result"
    }
   ],
   "source": [
    "import ai.stainless.micronaut.jupyter.gorm.Person\n",
    "\n",
    "def josh = new Person(\"Joshua\", \"Carter\")\n",
    "def fred = new Person(\"Fred\", \"Dobbs\")\n",
    "friends.save(fred)\n",
    "friends.save(josh)"
   ]
  },
  {
   "cell_type": "code",
   "execution_count": 3,
   "metadata": {},
   "outputs": [
    {
     "name": "stdout",
     "output_type": "stream",
     "text": [
      "\u001b[36m16:38:12.239\u001b[0;39m \u001b[1;30m[Thread-35]\u001b[0;39m \u001b[31mWARN \u001b[0;39m \u001b[35morg.hibernate.orm.deprecation\u001b[0;39m - HHH90000022: Hibernate's legacy org.hibernate.Criteria API is deprecated; use the JPA javax.persistence.criteria.CriteriaQuery instead\n"
     ]
    },
    {
     "data": {
      "text/plain": [
       "[Fred Dobbs, Joshua Carter, Fred Dobbs, Joshua Carter]"
      ]
     },
     "execution_count": 3,
     "metadata": {},
     "output_type": "execute_result"
    }
   ],
   "source": [
    "friends.list().collect{\"$it.firstName $it.lastName\"}"
   ]
  },
  {
   "cell_type": "code",
   "execution_count": null,
   "metadata": {},
   "outputs": [],
   "source": []
  }
 ],
 "metadata": {
  "kernelspec": {
   "display_name": "Micronaut",
   "language": "groovy",
   "name": "micronaut"
  },
  "language_info": {
   "codemirror_mode": "groovy",
   "file_extension": ".groovy",
   "mimetype": "",
   "name": "Groovy",
   "nbconverter_exporter": "",
   "version": "2.5.6"
  }
 },
 "nbformat": 4,
 "nbformat_minor": 4
}
