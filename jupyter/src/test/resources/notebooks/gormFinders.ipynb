{
 "cells": [
  {
   "cell_type": "code",
   "execution_count": 3,
   "metadata": {},
   "outputs": [
    {
     "data": {
      "text/plain": [
       "null"
      ]
     },
     "execution_count": 3,
     "metadata": {},
     "output_type": "execute_result"
    }
   ],
   "source": [
    "//%import micronaut.examples.gorm.domains.Person\n",
    "%import ai.stainless.micronaut.jupyter.gorm.Person"
   ]
  },
  {
   "cell_type": "code",
   "execution_count": 5,
   "metadata": {},
   "outputs": [
    {
     "ename": "org.hibernate.HibernateException",
     "evalue": " No Session found for current thread",
     "output_type": "error",
     "text": "org.hibernate.HibernateException: No Session found for current thread\n\tat org.grails.orm.hibernate.GrailsSessionContext.currentSession(GrailsSessionContext.java:112)\n\tat org.hibernate.internal.SessionFactoryImpl.getCurrentSession(SessionFactoryImpl.java:495)\n\tat org.grails.orm.hibernate.cfg.GrailsHibernateUtil.setObjectToReadWrite(GrailsHibernateUtil.java:320)\n\tat org.grails.orm.hibernate.HibernateGormInstanceApi.setObjectToReadWrite(HibernateGormInstanceApi.groovy:154)\n\tat org.grails.orm.hibernate.AbstractHibernateGormInstanceApi.save(AbstractHibernateGormInstanceApi.groovy:139)\n\tat org.grails.datastore.gorm.GormInstanceApi.save(GormInstanceApi.groovy:119)\n\tat org.grails.datastore.gorm.GormEntity$Trait$Helper.save(GormEntity.groovy:100)\n\tat org.grails.datastore.gorm.GormEntity$Trait$Helper$save.call(Unknown Source)\n\tat micronaut.examples.gorm.domains.Person.save(Person.groovy)\n\tat micronaut.examples.gorm.domains.Person.save(Person.groovy)\n\tat org.grails.datastore.gorm.GormEntity$save.call(Unknown Source)\n\tat this cell line 3\n\tat com.twosigma.beakerx.groovy.evaluator.GroovyCodeRunner.runScript(GroovyCodeRunner.java:94)\n\tat com.twosigma.beakerx.groovy.evaluator.GroovyCodeRunner.call(GroovyCodeRunner.java:59)\n\tat com.twosigma.beakerx.groovy.evaluator.GroovyCodeRunner.call(GroovyCodeRunner.java:32)\n",
     "traceback": [
      "\u001b[1;31morg.hibernate.HibernateException: No Session found for current thread\u001b[0;0m",
      "\u001b[1;31m\tat org.grails.orm.hibernate.GrailsSessionContext.currentSession(GrailsSessionContext.java:112)\u001b[0;0m",
      "\u001b[1;31m\tat org.hibernate.internal.SessionFactoryImpl.getCurrentSession(SessionFactoryImpl.java:495)\u001b[0;0m",
      "\u001b[1;31m\tat org.grails.orm.hibernate.cfg.GrailsHibernateUtil.setObjectToReadWrite(GrailsHibernateUtil.java:320)\u001b[0;0m",
      "\u001b[1;31m\tat org.grails.orm.hibernate.HibernateGormInstanceApi.setObjectToReadWrite(HibernateGormInstanceApi.groovy:154)\u001b[0;0m",
      "\u001b[1;31m\tat org.grails.orm.hibernate.AbstractHibernateGormInstanceApi.save(AbstractHibernateGormInstanceApi.groovy:139)\u001b[0;0m",
      "\u001b[1;31m\tat org.grails.datastore.gorm.GormInstanceApi.save(GormInstanceApi.groovy:119)\u001b[0;0m",
      "\u001b[1;31m\tat org.grails.datastore.gorm.GormEntity$Trait$Helper.save(GormEntity.groovy:100)\u001b[0;0m",
      "\u001b[1;31m\tat org.grails.datastore.gorm.GormEntity$Trait$Helper$save.call(Unknown Source)\u001b[0;0m",
      "\u001b[1;31m\tat micronaut.examples.gorm.domains.Person.save(Person.groovy)\u001b[0;0m",
      "\u001b[1;31m\tat micronaut.examples.gorm.domains.Person.save(Person.groovy)\u001b[0;0m",
      "\u001b[1;31m\tat org.grails.datastore.gorm.GormEntity$save.call(Unknown Source)\u001b[0;0m",
      "\u001b[1;31m\tat this cell line 3\u001b[0;0m",
      "\u001b[0;31m\tat com.twosigma.beakerx.groovy.evaluator.GroovyCodeRunner.runScript(GroovyCodeRunner.java:94)\u001b[0;0m",
      "\u001b[0;31m\tat com.twosigma.beakerx.groovy.evaluator.GroovyCodeRunner.call(GroovyCodeRunner.java:59)\u001b[0;0m",
      "\u001b[0;31m\tat com.twosigma.beakerx.groovy.evaluator.GroovyCodeRunner.call(GroovyCodeRunner.java:32)\u001b[0;0m"
     ]
    }
   ],
   "source": [
    "def josh = new Person(\"Joshua\", \"Carter\")\n",
    "def fred = new Person(\"Fred\", \"Dobbs\")\n",
    "fred.save()\n",
    "josh.save()"
   ]
  },
  {
   "cell_type": "code",
   "execution_count": 3,
   "metadata": {},
   "outputs": [
    {
     "name": "stdout",
     "output_type": "stream",
     "text": [
      "\u001b[36m16:38:12.239\u001b[0;39m \u001b[1;30m[Thread-35]\u001b[0;39m \u001b[31mWARN \u001b[0;39m \u001b[35morg.hibernate.orm.deprecation\u001b[0;39m - HHH90000022: Hibernate's legacy org.hibernate.Criteria API is deprecated; use the JPA javax.persistence.criteria.CriteriaQuery instead\n"
     ]
    },
    {
     "data": {
      "text/plain": [
       "[Fred Dobbs, Joshua Carter, Fred Dobbs, Joshua Carter]"
      ]
     },
     "execution_count": 3,
     "metadata": {},
     "output_type": "execute_result"
    }
   ],
   "source": [
    "Person.list().collect{\"$it.firstName $it.lastName\"}"
   ]
  },
  {
   "cell_type": "code",
   "execution_count": 6,
   "metadata": {},
   "outputs": [
    {
     "ename": "org.hibernate.HibernateException",
     "evalue": " No Session found for current thread",
     "output_type": "error",
     "text": "org.hibernate.HibernateException: No Session found for current thread\n\tat org.grails.orm.hibernate.GrailsSessionContext.currentSession(GrailsSessionContext.java:112)\n\tat org.hibernate.internal.SessionFactoryImpl.getCurrentSession(SessionFactoryImpl.java:495)\n\tat org.grails.orm.hibernate.HibernateSession.createQuery(HibernateSession.java:185)\n\tat org.grails.orm.hibernate.HibernateSession.createQuery(HibernateSession.java:178)\n\tat org.grails.datastore.gorm.finders.AbstractFindByFinder.buildQuery(AbstractFindByFinder.java:44)\n\tat org.grails.datastore.gorm.finders.AbstractFindByFinder$1.doInSession(AbstractFindByFinder.java:29)\n\tat org.grails.datastore.mapping.core.DatastoreUtils.execute(DatastoreUtils.java:319)\n\tat org.grails.datastore.gorm.finders.AbstractFinder.execute(AbstractFinder.java:42)\n\tat org.grails.datastore.gorm.finders.AbstractFindByFinder.doInvokeInternal(AbstractFindByFinder.java:27)\n\tat org.grails.datastore.gorm.finders.DynamicFinder.invoke(DynamicFinder.java:254)\n\tat org.grails.datastore.gorm.finders.DynamicFinder.invoke(DynamicFinder.java:392)\n\tat org.grails.datastore.gorm.finders.FinderMethod$invoke$0.call(Unknown Source)\n\tat org.grails.datastore.gorm.GormStaticApi.methodMissing(GormStaticApi.groovy:185)\n\tat org.grails.datastore.gorm.GormEntity$Trait$Helper.staticMethodMissing(GormEntity.groovy:777)\n\tat org.grails.datastore.gorm.GormEntity$Trait$Helper$staticMethodMissing$1.call(Unknown Source)\n\tat micronaut.examples.gorm.domains.Person.staticMethodMissing(Person.groovy)\n\tat micronaut.examples.gorm.domains.Person$staticMethodMissing.callStatic(Unknown Source)\n\tat micronaut.examples.gorm.domains.Person.$static_methodMissing(Person.groovy)\n\tat this cell line 1\n\tat com.twosigma.beakerx.groovy.evaluator.GroovyCodeRunner.runScript(GroovyCodeRunner.java:94)\n\tat com.twosigma.beakerx.groovy.evaluator.GroovyCodeRunner.call(GroovyCodeRunner.java:59)\n\tat com.twosigma.beakerx.groovy.evaluator.GroovyCodeRunner.call(GroovyCodeRunner.java:32)\n",
     "traceback": [
      "\u001b[1;31morg.hibernate.HibernateException: No Session found for current thread\u001b[0;0m",
      "\u001b[1;31m\tat org.grails.orm.hibernate.GrailsSessionContext.currentSession(GrailsSessionContext.java:112)\u001b[0;0m",
      "\u001b[1;31m\tat org.hibernate.internal.SessionFactoryImpl.getCurrentSession(SessionFactoryImpl.java:495)\u001b[0;0m",
      "\u001b[1;31m\tat org.grails.orm.hibernate.HibernateSession.createQuery(HibernateSession.java:185)\u001b[0;0m",
      "\u001b[1;31m\tat org.grails.orm.hibernate.HibernateSession.createQuery(HibernateSession.java:178)\u001b[0;0m",
      "\u001b[1;31m\tat org.grails.datastore.gorm.finders.AbstractFindByFinder.buildQuery(AbstractFindByFinder.java:44)\u001b[0;0m",
      "\u001b[1;31m\tat org.grails.datastore.gorm.finders.AbstractFindByFinder$1.doInSession(AbstractFindByFinder.java:29)\u001b[0;0m",
      "\u001b[1;31m\tat org.grails.datastore.mapping.core.DatastoreUtils.execute(DatastoreUtils.java:319)\u001b[0;0m",
      "\u001b[1;31m\tat org.grails.datastore.gorm.finders.AbstractFinder.execute(AbstractFinder.java:42)\u001b[0;0m",
      "\u001b[1;31m\tat org.grails.datastore.gorm.finders.AbstractFindByFinder.doInvokeInternal(AbstractFindByFinder.java:27)\u001b[0;0m",
      "\u001b[1;31m\tat org.grails.datastore.gorm.finders.DynamicFinder.invoke(DynamicFinder.java:254)\u001b[0;0m",
      "\u001b[1;31m\tat org.grails.datastore.gorm.finders.DynamicFinder.invoke(DynamicFinder.java:392)\u001b[0;0m",
      "\u001b[1;31m\tat org.grails.datastore.gorm.finders.FinderMethod$invoke$0.call(Unknown Source)\u001b[0;0m",
      "\u001b[1;31m\tat org.grails.datastore.gorm.GormStaticApi.methodMissing(GormStaticApi.groovy:185)\u001b[0;0m",
      "\u001b[1;31m\tat org.grails.datastore.gorm.GormEntity$Trait$Helper.staticMethodMissing(GormEntity.groovy:777)\u001b[0;0m",
      "\u001b[1;31m\tat org.grails.datastore.gorm.GormEntity$Trait$Helper$staticMethodMissing$1.call(Unknown Source)\u001b[0;0m",
      "\u001b[1;31m\tat micronaut.examples.gorm.domains.Person.staticMethodMissing(Person.groovy)\u001b[0;0m",
      "\u001b[1;31m\tat micronaut.examples.gorm.domains.Person$staticMethodMissing.callStatic(Unknown Source)\u001b[0;0m",
      "\u001b[1;31m\tat micronaut.examples.gorm.domains.Person.$static_methodMissing(Person.groovy)\u001b[0;0m",
      "\u001b[1;31m\tat this cell line 1\u001b[0;0m",
      "\u001b[0;31m\tat com.twosigma.beakerx.groovy.evaluator.GroovyCodeRunner.runScript(GroovyCodeRunner.java:94)\u001b[0;0m",
      "\u001b[0;31m\tat com.twosigma.beakerx.groovy.evaluator.GroovyCodeRunner.call(GroovyCodeRunner.java:59)\u001b[0;0m",
      "\u001b[0;31m\tat com.twosigma.beakerx.groovy.evaluator.GroovyCodeRunner.call(GroovyCodeRunner.java:32)\u001b[0;0m"
     ]
    }
   ],
   "source": [
    "Person.findByFirstName(\"Joshua\").firstName"
   ]
  },
  {
   "cell_type": "code",
   "execution_count": null,
   "metadata": {},
   "outputs": [],
   "source": []
  }
 ],
 "metadata": {
  "kernelspec": {
   "display_name": "Micronaut",
   "language": "groovy",
   "name": "micronaut"
  },
  "language_info": {
   "codemirror_mode": "groovy",
   "file_extension": ".groovy",
   "mimetype": "",
   "name": "Groovy",
   "nbconverter_exporter": "",
   "version": "2.5.6"
  }
 },
 "nbformat": 4,
 "nbformat_minor": 4
}
