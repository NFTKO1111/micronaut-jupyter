{
 "cells": [
  {
   "cell_type": "code",
   "execution_count": null,
   "metadata": {},
   "outputs": [],
   "source": [
    "//friends = service micronaut.examples.gorm.services.FriendService\n",
    "friends = service ai.stainless.micronaut.jupyter.gorm.FriendService\n",
    "\n",
    "print friends"
   ]
  },
  {
   "cell_type": "code",
   "execution_count": 2,
   "metadata": {},
   "outputs": [
    {
     "data": {
      "text/plain": [
       "micronaut.examples.gorm.domains.Person : 2"
      ]
     },
     "execution_count": 2,
     "metadata": {},
     "output_type": "execute_result"
    }
   ],
   "source": [
    "//import micronaut.examples.gorm.domains.Person\n",
    "import ai.stainless.micronaut.jupyter.gorm.Person\n",
    "\n",
    "def josh = new Person(\"Joshua\", \"Carter\")\n",
    "def fred = new Person(\"Fred\", \"Dobbs\")\n",
    "josh.friends.add(fred)\n",
    "fred.friends.add(josh)\n",
    "friends.save(fred)\n",
    "friends.save(josh)"
   ]
  },
  {
   "cell_type": "code",
   "execution_count": 3,
   "metadata": {},
   "outputs": [
    {
     "name": "stdout",
     "output_type": "stream",
     "text": [
      "\u001b[36m11:08:16.405\u001b[0;39m \u001b[1;30m[Thread-19]\u001b[0;39m \u001b[31mWARN \u001b[0;39m \u001b[35morg.hibernate.orm.deprecation\u001b[0;39m - HHH90000022: Hibernate's legacy org.hibernate.Criteria API is deprecated; use the JPA javax.persistence.criteria.CriteriaQuery instead\n"
     ]
    },
    {
     "data": {
      "text/plain": [
       "[Fred Dobbs, Joshua Carter]"
      ]
     },
     "execution_count": 3,
     "metadata": {},
     "output_type": "execute_result"
    }
   ],
   "source": [
    "friends.list().collect{\"$it.firstName $it.lastName\"}"
   ]
  },
  {
   "cell_type": "code",
   "execution_count": 4,
   "metadata": {},
   "outputs": [
    {
     "name": "stdout",
     "output_type": "stream",
     "text": [
      "\u001b[36m11:08:18.715\u001b[0;39m \u001b[1;30m[Thread-20]\u001b[0;39m \u001b[31mWARN \u001b[0;39m \u001b[35morg.hibernate.orm.deprecation\u001b[0;39m - HHH90000022: Hibernate's legacy org.hibernate.Criteria API is deprecated; use the JPA javax.persistence.criteria.CriteriaQuery instead\n",
      "[Fred Dobbs]\n"
     ]
    },
    {
     "data": {
      "text/plain": [
       "null"
      ]
     },
     "execution_count": 4,
     "metadata": {},
     "output_type": "execute_result"
    }
   ],
   "source": [
    "def josh = friends.find(\"Joshua\", \"Carter\")\n",
    "println josh.friends.collect{\"$it.firstName $it.lastName\"}"
   ]
  },
  {
   "cell_type": "code",
   "execution_count": null,
   "metadata": {},
   "outputs": [],
   "source": []
  }
 ],
 "metadata": {
  "kernelspec": {
   "display_name": "Micronaut",
   "language": "groovy",
   "name": "micronaut"
  },
  "language_info": {
   "codemirror_mode": "groovy",
   "file_extension": ".groovy",
   "mimetype": "",
   "name": "Groovy",
   "nbconverter_exporter": "",
   "version": "2.5.6"
  }
 },
 "nbformat": 4,
 "nbformat_minor": 4
}
