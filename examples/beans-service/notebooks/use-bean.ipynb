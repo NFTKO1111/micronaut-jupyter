{
 "cells": [
  {
   "cell_type": "code",
   "execution_count": 1,
   "metadata": {},
   "outputs": [
    {
     "data": {
      "text/plain": [
       "micronaut.examples.beans.services.CalculatorService@1540f8e7"
      ]
     },
     "execution_count": 1,
     "metadata": {},
     "output_type": "execute_result"
    }
   ],
   "source": [
    "// get our calculator service bean\n",
    "calculator = service micronaut.examples.beans.services.CalculatorService"
   ]
  },
  {
   "cell_type": "code",
   "execution_count": 2,
   "metadata": {},
   "outputs": [
    {
     "data": {
      "text/plain": [
       "21.0"
      ]
     },
     "execution_count": 2,
     "metadata": {},
     "output_type": "execute_result"
    }
   ],
   "source": [
    "// do maths\n",
    "calculator.sum(1, 5, 7, 8)"
   ]
  },
  {
   "cell_type": "code",
   "execution_count": 3,
   "metadata": {},
   "outputs": [
    {
     "data": {
      "text/plain": [
       "819.0"
      ]
     },
     "execution_count": 3,
     "metadata": {},
     "output_type": "execute_result"
    }
   ],
   "source": [
    "calculator.product(45.5 as Float, 3, 6)"
   ]
  },
  {
   "cell_type": "code",
   "execution_count": 4,
   "metadata": {},
   "outputs": [
    {
     "data": {
      "text/plain": [
       "1436.2"
      ]
     },
     "execution_count": 4,
     "metadata": {},
     "output_type": "execute_result"
    }
   ],
   "source": [
    "calculator.difference(1554, 45, 67.8 as Float, 5)"
   ]
  },
  {
   "cell_type": "code",
   "execution_count": 5,
   "metadata": {},
   "outputs": [
    {
     "data": {
      "text/plain": [
       "2.0802326"
      ]
     },
     "execution_count": 5,
     "metadata": {},
     "output_type": "execute_result"
    }
   ],
   "source": [
    "calculator.quotient(1789, 43, 2, 10)"
   ]
  },
  {
   "cell_type": "code",
   "execution_count": 6,
   "metadata": {},
   "outputs": [
    {
     "data": {
      "text/plain": [
       "[\n",
       "    {\n",
       "        \"op\": \"sum\",\n",
       "        \"params\": [\n",
       "            1.0,\n",
       "            5.0,\n",
       "            7.0,\n",
       "            8.0\n",
       "        ]\n",
       "    },\n",
       "    {\n",
       "        \"op\": \"product\",\n",
       "        \"params\": [\n",
       "            45.5,\n",
       "            3.0,\n",
       "            6.0\n",
       "        ]\n",
       "    },\n",
       "    {\n",
       "        \"op\": \"difference\",\n",
       "        \"params\": [\n",
       "            1554.0,\n",
       "            45.0,\n",
       "            67.8,\n",
       "            5.0\n",
       "        ]\n",
       "    },\n",
       "    {\n",
       "        \"op\": \"quotient\",\n",
       "        \"params\": [\n",
       "            1789.0,\n",
       "            43.0,\n",
       "            2.0,\n",
       "            10.0\n",
       "        ]\n",
       "    }\n",
       "]"
      ]
     },
     "execution_count": 6,
     "metadata": {},
     "output_type": "execute_result"
    }
   ],
   "source": [
    "import groovy.json.*\n",
    "\n",
    "JsonOutput.prettyPrint(new JsonBuilder(calculator.history).toString())"
   ]
  },
  {
   "cell_type": "code",
   "execution_count": null,
   "metadata": {},
   "outputs": [],
   "source": []
  }
 ],
 "metadata": {
  "kernelspec": {
   "display_name": "Micronaut",
   "language": "groovy",
   "name": "micronaut"
  },
  "language_info": {
   "codemirror_mode": "groovy",
   "file_extension": ".groovy",
   "mimetype": "",
   "name": "Groovy",
   "nbconverter_exporter": "",
   "version": "2.5.6"
  }
 },
 "nbformat": 4,
 "nbformat_minor": 4
}
