{
 "cells": [
  {
   "cell_type": "code",
   "execution_count": 6,
   "metadata": {},
   "outputs": [],
   "source": [
    "// get our domain\n",
    "%import micronaut.examples.gorm.domains.Person"
   ]
  },
  {
   "cell_type": "code",
   "execution_count": 22,
   "metadata": {},
   "outputs": [
    {
     "data": {
      "text/plain": [
       "[]"
      ]
     },
     "execution_count": 22,
     "metadata": {},
     "output_type": "execute_result"
    }
   ],
   "source": [
    "// list all of the current people\n",
    "Person.list().collect { it.firstName + \" \" + it.lastName }"
   ]
  },
  {
   "cell_type": "code",
   "execution_count": 23,
   "metadata": {},
   "outputs": [
    {
     "data": {
      "text/plain": [
       "micronaut.examples.gorm.domains.Person : 4"
      ]
     },
     "execution_count": 23,
     "metadata": {},
     "output_type": "execute_result"
    }
   ],
   "source": [
    "// No friends?? Let's create some.\n",
    "def netty = new Person(firstName: \"Netty\", lastName: \"Dobs\")\n",
    "def fred = new Person(firstName: \"Fred\", lastName: \"Dobs\")\n",
    "netty.friends.add(fred)\n",
    "fred.friends.add(netty)\n",
    "friends.save(netty)\n",
    "friends.save(fred)"
   ]
  },
  {
   "cell_type": "code",
   "execution_count": 24,
   "metadata": {},
   "outputs": [
    {
     "name": "stdout",
     "output_type": "stream",
     "text": [
      "Netty's friends are: [Fred Dobs]\n",
      "Fred's friends are: [Netty Dobs]\n"
     ]
    },
    {
     "data": {
      "text/plain": [
       "null"
      ]
     },
     "execution_count": 24,
     "metadata": {},
     "output_type": "execute_result"
    }
   ],
   "source": [
    "// now, netty and fred are friends\n",
    "def netty = Person.findByFirstNameAndLastName(\"Netty\", \"Dobs\")\n",
    "println \"Netty's friends are: ${netty.friends.collect { \"$it.firstName $it.lastName\" }}\"\n",
    "def fred = Person.findByFirstNameAndLastName(\"Fred\", \"Dobs\")\n",
    "println \"Fred's friends are: ${fred.friends.collect { \"$it.firstName $it.lastName\" }}\""
   ]
  },
  {
   "cell_type": "code",
   "execution_count": 25,
   "metadata": {},
   "outputs": [
    {
     "data": {
      "text/plain": [
       "[Netty Dobs, Fred Dobs]"
      ]
     },
     "execution_count": 25,
     "metadata": {},
     "output_type": "execute_result"
    }
   ],
   "source": [
    "// list all of the current people\n",
    "Person.list().collect { it.firstName + \" \" + it.lastName }"
   ]
  },
  {
   "cell_type": "code",
   "execution_count": null,
   "metadata": {},
   "outputs": [],
   "source": []
  }
 ],
 "metadata": {
  "kernelspec": {
   "display_name": "Micronaut",
   "language": "groovy",
   "name": "micronaut"
  },
  "language_info": {
   "codemirror_mode": "groovy",
   "file_extension": ".groovy",
   "mimetype": "",
   "name": "Groovy",
   "nbconverter_exporter": "",
   "version": "2.5.6"
  }
 },
 "nbformat": 4,
 "nbformat_minor": 4
}
