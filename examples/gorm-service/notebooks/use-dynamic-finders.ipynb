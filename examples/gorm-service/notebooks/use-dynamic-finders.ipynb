{
 "cells": [
  {
   "cell_type": "code",
   "execution_count": null,
   "metadata": {},
   "outputs": [],
   "source": [
    "// get our domain\n",
    "%import micronaut.examples.gorm.domains.Person\n",
    "\n",
    "friends = service micronaut.examples.gorm.services.FriendService"
   ]
  },
  {
   "cell_type": "code",
   "execution_count": null,
   "metadata": {},
   "outputs": [],
   "source": [
    "// list all of the current people\n",
    "Person.list().collect { it.firstName + \" \" + it.lastName }"
   ]
  },
  {
   "cell_type": "code",
   "execution_count": null,
   "metadata": {},
   "outputs": [],
   "source": [
    "// No friends?? Let's create some.\n",
    "def netty = new Person(firstName: \"Netty\", lastName: \"Dobs\")\n",
    "def fred = new Person(firstName: \"Fred\", lastName: \"Dobs\")\n",
    "netty.friends.add(fred)\n",
    "fred.friends.add(netty)\n",
    "friends.save(netty)\n",
    "friends.save(fred)"
   ]
  },
  {
   "cell_type": "code",
   "execution_count": null,
   "metadata": {},
   "outputs": [],
   "source": [
    "// now, netty and fred are friends\n",
    "def netty = Person.findByFirstNameAndLastName(\"Netty\", \"Dobs\")\n",
    "println \"Netty's friends are: ${netty.friends.collect { \"$it.firstName $it.lastName\" }}\"\n",
    "def fred = Person.findByFirstNameAndLastName(\"Fred\", \"Dobs\")\n",
    "println \"Fred's friends are: ${fred.friends.collect { \"$it.firstName $it.lastName\" }}\""
   ]
  },
  {
   "cell_type": "code",
   "execution_count": null,
   "metadata": {},
   "outputs": [],
   "source": [
    "// list all of the current people\n",
    "Person.list().collect { it.firstName + \" \" + it.lastName }"
   ]
  },
  {
   "cell_type": "code",
   "execution_count": null,
   "metadata": {},
   "outputs": [],
   "source": []
  }
 ],
 "metadata": {
  "kernelspec": {
   "display_name": "Micronaut",
   "language": "groovy",
   "name": "micronaut"
  },
  "language_info": {
   "codemirror_mode": "groovy",
   "file_extension": ".groovy",
   "mimetype": "",
   "name": "Groovy",
   "nbconverter_exporter": "",
   "version": "2.5.6"
  }
 },
 "nbformat": 4,
 "nbformat_minor": 4
}
