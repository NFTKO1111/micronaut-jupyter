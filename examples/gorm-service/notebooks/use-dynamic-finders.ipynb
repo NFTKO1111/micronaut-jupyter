{
 "cells": [
  {
   "cell_type": "code",
   "execution_count": 1,
   "metadata": {},
   "outputs": [],
   "source": [
    "// get our domain\n",
    "%import micronaut.examples.gorm.domains.Person\n",
    "\n",
    "friends = service micronaut.examples.md.services.FriendService"
   ]
  },
  {
   "cell_type": "code",
   "execution_count": 2,
   "metadata": {},
   "outputs": [
    {
     "data": {
      "text/plain": [
       "[Netty Dobs, Fred Dobs]"
      ]
     },
     "execution_count": 2,
     "metadata": {},
     "output_type": "execute_result"
    }
   ],
   "source": [
    "// list all of the current people\n",
    "Person.list().collect { it.firstName + \" \" + it.lastName }"
   ]
  },
  {
   "cell_type": "code",
   "execution_count": 6,
   "metadata": {},
   "outputs": [
    {
     "ename": "groovy.lang.MissingPropertyException",
     "evalue": " No such property",
     "output_type": "error",
     "text": "groovy.lang.MissingPropertyException: No such property: friends for class: script1606061432335\n\tat this cell line 6\n\tat ai.stainless.micronaut.jupyter.kernel.PublicGroovyCodeRunner.runScript(PublicGroovyCodeRunner.java:102)\n\tat ai.stainless.micronaut.jupyter.kernel.PublicGroovyCodeRunner.call(PublicGroovyCodeRunner.java:67)\n\tat ai.stainless.micronaut.jupyter.kernel.MicronautCodeRunner.super$2$call(MicronautCodeRunner.groovy)\n\tat ai.stainless.micronaut.jupyter.kernel.MicronautCodeRunner.call(MicronautCodeRunner.groovy:32)\n\tat ai.stainless.micronaut.jupyter.kernel.MicronautCodeRunner.call(MicronautCodeRunner.groovy)\n\tat java_util_concurrent_Callable$call.call(Unknown Source)\n\tat ai.stainless.micronaut.jupyter.kernel.MicronautWorkerThread.executeCode(MicronautWorkerThread.groovy:43)\n\tat ai.stainless.micronaut.jupyter.kernel.MicronautWorkerThread$_call_closure1$_closure2.doCall(MicronautWorkerThread.groovy:72)\n\tat org.grails.orm.hibernate.GrailsHibernateTemplate$$Lambda$587/000000000000000000.doInHibernate(Unknown Source)\n\tat org.grails.orm.hibernate.GrailsHibernateTemplate.doExecute(GrailsHibernateTemplate.java:297)\n\tat org.grails.orm.hibernate.GrailsHibernateTemplate.execute(GrailsHibernateTemplate.java:241)\n\tat org.grails.orm.hibernate.GrailsHibernateTemplate.executeWithNewSession(GrailsHibernateTemplate.java:153)\n\tat org.grails.orm.hibernate.AbstractHibernateDatastore.withNewSession(AbstractHibernateDatastore.java:360)\n\tat org.grails.orm.hibernate.AbstractHibernateDatastore$withNewSession.call(Unknown Source)\n\tat ai.stainless.micronaut.jupyter.kernel.MicronautWorkerThread$_call_closure1.doCall(MicronautWorkerThread.groovy:71)\n\tat ai.stainless.micronaut.jupyter.kernel.MicronautWorkerThread$_call_closure1.doCall(MicronautWorkerThread.groovy)\n",
     "traceback": [
      "\u001B[1;31mgroovy.lang.MissingPropertyException: No such property: friends for class: script1606061432335\u001B[0;0m",
      "\u001B[1;31m\tat this cell line 6\u001B[0;0m",
      "\u001B[1;31m\tat ai.stainless.micronaut.jupyter.kernel.PublicGroovyCodeRunner.runScript(PublicGroovyCodeRunner.java:102)\u001B[0;0m",
      "\u001B[1;31m\tat ai.stainless.micronaut.jupyter.kernel.PublicGroovyCodeRunner.call(PublicGroovyCodeRunner.java:67)\u001B[0;0m",
      "\u001B[1;31m\tat ai.stainless.micronaut.jupyter.kernel.MicronautCodeRunner.super$2$call(MicronautCodeRunner.groovy)\u001B[0;0m",
      "\u001B[1;31m\tat ai.stainless.micronaut.jupyter.kernel.MicronautCodeRunner.call(MicronautCodeRunner.groovy:32)\u001B[0;0m",
      "\u001B[1;31m\tat ai.stainless.micronaut.jupyter.kernel.MicronautCodeRunner.call(MicronautCodeRunner.groovy)\u001B[0;0m",
      "\u001B[1;31m\tat java_util_concurrent_Callable$call.call(Unknown Source)\u001B[0;0m",
      "\u001B[1;31m\tat ai.stainless.micronaut.jupyter.kernel.MicronautWorkerThread.executeCode(MicronautWorkerThread.groovy:43)\u001B[0;0m",
      "\u001B[1;31m\tat ai.stainless.micronaut.jupyter.kernel.MicronautWorkerThread$_call_closure1$_closure2.doCall(MicronautWorkerThread.groovy:72)\u001B[0;0m",
      "\u001B[1;31m\tat org.grails.orm.hibernate.GrailsHibernateTemplate$$Lambda$587/000000000000000000.doInHibernate(Unknown Source)\u001B[0;0m",
      "\u001B[1;31m\tat org.grails.orm.hibernate.GrailsHibernateTemplate.doExecute(GrailsHibernateTemplate.java:297)\u001B[0;0m",
      "\u001B[1;31m\tat org.grails.orm.hibernate.GrailsHibernateTemplate.execute(GrailsHibernateTemplate.java:241)\u001B[0;0m",
      "\u001B[1;31m\tat org.grails.orm.hibernate.GrailsHibernateTemplate.executeWithNewSession(GrailsHibernateTemplate.java:153)\u001B[0;0m",
      "\u001B[1;31m\tat org.grails.orm.hibernate.AbstractHibernateDatastore.withNewSession(AbstractHibernateDatastore.java:360)\u001B[0;0m",
      "\u001B[1;31m\tat org.grails.orm.hibernate.AbstractHibernateDatastore$withNewSession.call(Unknown Source)\u001B[0;0m",
      "\u001B[1;31m\tat ai.stainless.micronaut.jupyter.kernel.MicronautWorkerThread$_call_closure1.doCall(MicronautWorkerThread.groovy:71)\u001B[0;0m",
      "\u001B[1;31m\tat ai.stainless.micronaut.jupyter.kernel.MicronautWorkerThread$_call_closure1.doCall(MicronautWorkerThread.groovy)\u001B[0;0m"
     ]
    }
   ],
   "source": [
    "// No friends?? Let's create some.\n",
    "def netty = new Person(firstName: \"Netty\", lastName: \"Dobs\")\n",
    "def fred = new Person(firstName: \"Fred\", lastName: \"Dobs\")\n",
    "netty.friends.add(fred)\n",
    "fred.friends.add(netty)\n",
    "friends.save(netty)\n",
    "friends.save(fred)"
   ]
  },
  {
   "cell_type": "code",
   "execution_count": 4,
   "metadata": {},
   "outputs": [
    {
     "name": "stdout",
     "output_type": "stream",
     "text": [
      "Netty's friends are: [Fred Dobs]\n",
      "Fred's friends are: [Netty Dobs]\n"
     ]
    },
    {
     "data": {
      "text/plain": [
       "null"
      ]
     },
     "execution_count": 4,
     "metadata": {},
     "output_type": "execute_result"
    }
   ],
   "source": [
    "// now, netty and fred are friends\n",
    "def netty = Person.findByFirstNameAndLastName(\"Netty\", \"Dobs\")\n",
    "println \"Netty's friends are: ${netty.friends.collect { \"$it.firstName $it.lastName\" }}\"\n",
    "def fred = Person.findByFirstNameAndLastName(\"Fred\", \"Dobs\")\n",
    "println \"Fred's friends are: ${fred.friends.collect { \"$it.firstName $it.lastName\" }}\""
   ]
  },
  {
   "cell_type": "code",
   "execution_count": 5,
   "metadata": {},
   "outputs": [
    {
     "data": {
      "text/plain": [
       "[Netty Dobs, Fred Dobs]"
      ]
     },
     "execution_count": 5,
     "metadata": {},
     "output_type": "execute_result"
    }
   ],
   "source": [
    "// list all of the current people\n",
    "Person.list().collect { it.firstName + \" \" + it.lastName }"
   ]
  },
  {
   "cell_type": "code",
   "execution_count": null,
   "metadata": {},
   "outputs": [],
   "source": []
  }
 ],
 "metadata": {
  "kernelspec": {
   "display_name": "Micronaut",
   "language": "groovy",
   "name": "micronaut"
  },
  "language_info": {
   "codemirror_mode": "groovy",
   "file_extension": ".groovy",
   "mimetype": "",
   "name": "Groovy",
   "nbconverter_exporter": "",
   "version": "2.5.6"
  }
 },
 "nbformat": 4,
 "nbformat_minor": 4
}