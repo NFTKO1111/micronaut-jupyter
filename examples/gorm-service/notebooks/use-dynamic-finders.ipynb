{
 "cells": [
  {
   "cell_type": "code",
   "execution_count": 1,
   "metadata": {},
   "outputs": [
    {
     "data": {
      "text/plain": [
       "micronaut.examples.gorm.services.$FriendServiceImplementation@6091b333"
      ]
     },
     "execution_count": 1,
     "metadata": {},
     "output_type": "execute_result"
    }
   ],
   "source": [
    "// get our domain\n",
    "%import micronaut.examples.gorm.domains.Person\n",
    "\n",
    "friends = service micronaut.examples.gorm.services.FriendService"
   ]
  },
  {
   "cell_type": "code",
   "execution_count": 2,
   "metadata": {},
   "outputs": [
    {
     "ename": "org.springframework.dao.DataAccessResourceFailureException",
     "evalue": " Could not obtain current Hibernate Session; nested exception is org.hibernate.HibernateException",
     "output_type": "error",
     "text": "org.springframework.dao.DataAccessResourceFailureException: Could not obtain current Hibernate Session; nested exception is org.hibernate.HibernateException: No Session found for current thread\n\tat org.grails.orm.hibernate.GrailsHibernateTemplate.getSession(GrailsHibernateTemplate.java:335)\n\tat org.grails.orm.hibernate.GrailsHibernateTemplate.doExecute(GrailsHibernateTemplate.java:284)\n\tat org.grails.orm.hibernate.GrailsHibernateTemplate.execute(GrailsHibernateTemplate.java:241)\n\tat org.grails.orm.hibernate.GrailsHibernateTemplate.execute(GrailsHibernateTemplate.java:120)\n\tat org.grails.orm.hibernate.HibernateGormStaticApi.list(HibernateGormStaticApi.groovy:78)\n\tat org.grails.orm.hibernate.HibernateGormStaticApi.list(HibernateGormStaticApi.groovy:77)\n\tat org.grails.datastore.gorm.GormEntity$Trait$Helper.list(GormEntity.groovy:682)\n\tat org.grails.datastore.gorm.GormEntity$Trait$Helper$list.call(Unknown Source)\n\tat micronaut.examples.gorm.domains.Person.list(Person.groovy)\n\tat micronaut.examples.gorm.domains.Person$list.call(Unknown Source)\n\tat this cell line 2\n\tat ai.stainless.micronaut.jupyter.kernel.MicronautCodeRunner.runScript(MicronautCodeRunner.java:113)\n\tat ai.stainless.micronaut.jupyter.kernel.MicronautCodeRunner.call(MicronautCodeRunner.java:77)\n\tat ai.stainless.micronaut.jupyter.kernel.MicronautCodeRunner.call(MicronautCodeRunner.java:41)\nCaused by: org.hibernate.HibernateException: No Session found for current thread\n\tat org.grails.orm.hibernate.GrailsSessionContext.currentSession(GrailsSessionContext.java:112)\n\tat org.hibernate.internal.SessionFactoryImpl.getCurrentSession(SessionFactoryImpl.java:495)\n\tat org.grails.orm.hibernate.GrailsHibernateTemplate.getSession(GrailsHibernateTemplate.java:333)\n\tat org.grails.orm.hibernate.GrailsHibernateTemplate.doExecute(GrailsHibernateTemplate.java:284)\n\tat org.grails.orm.hibernate.GrailsHibernateTemplate.execute(GrailsHibernateTemplate.java:241)\n\tat org.grails.orm.hibernate.GrailsHibernateTemplate.execute(GrailsHibernateTemplate.java:120)\n\tat org.grails.orm.hibernate.HibernateGormStaticApi.list(HibernateGormStaticApi.groovy:78)\n\tat org.grails.orm.hibernate.HibernateGormStaticApi.list(HibernateGormStaticApi.groovy:77)\n\tat org.grails.datastore.gorm.GormEntity$Trait$Helper.list(GormEntity.groovy:682)\n\tat org.grails.datastore.gorm.GormEntity$Trait$Helper$list.call(Unknown Source)\n\tat org.codehaus.groovy.runtime.callsite.CallSiteArray.defaultCall(CallSiteArray.java:47)\n\tat org.codehaus.groovy.runtime.callsite.AbstractCallSite.call(AbstractCallSite.java:115)\n\tat org.codehaus.groovy.runtime.callsite.AbstractCallSite.call(AbstractCallSite.java:127)\n\tat micronaut.examples.gorm.domains.Person.list(Person.groovy)\n\tat micronaut.examples.gorm.domains.Person$list.call(Unknown Source)\n\tat org.codehaus.groovy.runtime.callsite.CallSiteArray.defaultCall(CallSiteArray.java:47)\n\tat org.codehaus.groovy.runtime.callsite.AbstractCallSite.call(AbstractCallSite.java:115)\n\tat org.codehaus.groovy.runtime.callsite.AbstractCallSite.call(AbstractCallSite.java:119)\n\tat this cell line 2\n\tat ai.stainless.micronaut.jupyter.kernel.MicronautCodeRunner.runScript(MicronautCodeRunner.java:113)\n\tat ai.stainless.micronaut.jupyter.kernel.MicronautCodeRunner.call(MicronautCodeRunner.java:77)\n\tat ai.stainless.micronaut.jupyter.kernel.MicronautCodeRunner.call(MicronautCodeRunner.java:41)\n\tat java.base/java.util.concurrent.FutureTask.run(FutureTask.java:264)\n\tat java.base/java.lang.Thread.run(Thread.java:834)\n",
     "traceback": [
      "\u001b[1;31morg.springframework.dao.DataAccessResourceFailureException: Could not obtain current Hibernate Session; nested exception is org.hibernate.HibernateException: No Session found for current thread\u001b[0;0m",
      "\u001b[1;31m\tat org.grails.orm.hibernate.GrailsHibernateTemplate.getSession(GrailsHibernateTemplate.java:335)\u001b[0;0m",
      "\u001b[1;31m\tat org.grails.orm.hibernate.GrailsHibernateTemplate.doExecute(GrailsHibernateTemplate.java:284)\u001b[0;0m",
      "\u001b[1;31m\tat org.grails.orm.hibernate.GrailsHibernateTemplate.execute(GrailsHibernateTemplate.java:241)\u001b[0;0m",
      "\u001b[1;31m\tat org.grails.orm.hibernate.GrailsHibernateTemplate.execute(GrailsHibernateTemplate.java:120)\u001b[0;0m",
      "\u001b[1;31m\tat org.grails.orm.hibernate.HibernateGormStaticApi.list(HibernateGormStaticApi.groovy:78)\u001b[0;0m",
      "\u001b[1;31m\tat org.grails.orm.hibernate.HibernateGormStaticApi.list(HibernateGormStaticApi.groovy:77)\u001b[0;0m",
      "\u001b[1;31m\tat org.grails.datastore.gorm.GormEntity$Trait$Helper.list(GormEntity.groovy:682)\u001b[0;0m",
      "\u001b[1;31m\tat org.grails.datastore.gorm.GormEntity$Trait$Helper$list.call(Unknown Source)\u001b[0;0m",
      "\u001b[1;31m\tat micronaut.examples.gorm.domains.Person.list(Person.groovy)\u001b[0;0m",
      "\u001b[1;31m\tat micronaut.examples.gorm.domains.Person$list.call(Unknown Source)\u001b[0;0m",
      "\u001b[1;31m\tat this cell line 2\u001b[0;0m",
      "\u001b[1;31m\tat ai.stainless.micronaut.jupyter.kernel.MicronautCodeRunner.runScript(MicronautCodeRunner.java:113)\u001b[0;0m",
      "\u001b[1;31m\tat ai.stainless.micronaut.jupyter.kernel.MicronautCodeRunner.call(MicronautCodeRunner.java:77)\u001b[0;0m",
      "\u001b[1;31m\tat ai.stainless.micronaut.jupyter.kernel.MicronautCodeRunner.call(MicronautCodeRunner.java:41)\u001b[0;0m",
      "\u001b[1;31mCaused by: org.hibernate.HibernateException: No Session found for current thread\u001b[0;0m",
      "\u001b[1;31m\tat org.grails.orm.hibernate.GrailsSessionContext.currentSession(GrailsSessionContext.java:112)\u001b[0;0m",
      "\u001b[1;31m\tat org.hibernate.internal.SessionFactoryImpl.getCurrentSession(SessionFactoryImpl.java:495)\u001b[0;0m",
      "\u001b[1;31m\tat org.grails.orm.hibernate.GrailsHibernateTemplate.getSession(GrailsHibernateTemplate.java:333)\u001b[0;0m",
      "\u001b[1;31m\tat org.grails.orm.hibernate.GrailsHibernateTemplate.doExecute(GrailsHibernateTemplate.java:284)\u001b[0;0m",
      "\u001b[1;31m\tat org.grails.orm.hibernate.GrailsHibernateTemplate.execute(GrailsHibernateTemplate.java:241)\u001b[0;0m",
      "\u001b[1;31m\tat org.grails.orm.hibernate.GrailsHibernateTemplate.execute(GrailsHibernateTemplate.java:120)\u001b[0;0m",
      "\u001b[1;31m\tat org.grails.orm.hibernate.HibernateGormStaticApi.list(HibernateGormStaticApi.groovy:78)\u001b[0;0m",
      "\u001b[1;31m\tat org.grails.orm.hibernate.HibernateGormStaticApi.list(HibernateGormStaticApi.groovy:77)\u001b[0;0m",
      "\u001b[1;31m\tat org.grails.datastore.gorm.GormEntity$Trait$Helper.list(GormEntity.groovy:682)\u001b[0;0m",
      "\u001b[1;31m\tat org.grails.datastore.gorm.GormEntity$Trait$Helper$list.call(Unknown Source)\u001b[0;0m",
      "\u001b[1;31m\tat org.codehaus.groovy.runtime.callsite.CallSiteArray.defaultCall(CallSiteArray.java:47)\u001b[0;0m",
      "\u001b[1;31m\tat org.codehaus.groovy.runtime.callsite.AbstractCallSite.call(AbstractCallSite.java:115)\u001b[0;0m",
      "\u001b[1;31m\tat org.codehaus.groovy.runtime.callsite.AbstractCallSite.call(AbstractCallSite.java:127)\u001b[0;0m",
      "\u001b[1;31m\tat micronaut.examples.gorm.domains.Person.list(Person.groovy)\u001b[0;0m",
      "\u001b[1;31m\tat micronaut.examples.gorm.domains.Person$list.call(Unknown Source)\u001b[0;0m",
      "\u001b[1;31m\tat org.codehaus.groovy.runtime.callsite.CallSiteArray.defaultCall(CallSiteArray.java:47)\u001b[0;0m",
      "\u001b[1;31m\tat org.codehaus.groovy.runtime.callsite.AbstractCallSite.call(AbstractCallSite.java:115)\u001b[0;0m",
      "\u001b[1;31m\tat org.codehaus.groovy.runtime.callsite.AbstractCallSite.call(AbstractCallSite.java:119)\u001b[0;0m",
      "\u001b[1;31m\tat this cell line 2\u001b[0;0m",
      "\u001b[1;31m\tat ai.stainless.micronaut.jupyter.kernel.MicronautCodeRunner.runScript(MicronautCodeRunner.java:113)\u001b[0;0m",
      "\u001b[1;31m\tat ai.stainless.micronaut.jupyter.kernel.MicronautCodeRunner.call(MicronautCodeRunner.java:77)\u001b[0;0m",
      "\u001b[1;31m\tat ai.stainless.micronaut.jupyter.kernel.MicronautCodeRunner.call(MicronautCodeRunner.java:41)\u001b[0;0m",
      "\u001b[1;31m\tat java.base/java.util.concurrent.FutureTask.run(FutureTask.java:264)\u001b[0;0m",
      "\u001b[1;31m\tat java.base/java.lang.Thread.run(Thread.java:834)\u001b[0;0m"
     ]
    }
   ],
   "source": [
    "// list all of the current people\n",
    "Person.list().collect { it.firstName + \" \" + it.lastName }"
   ]
  },
  {
   "cell_type": "code",
   "execution_count": 3,
   "metadata": {},
   "outputs": [
    {
     "data": {
      "text/plain": [
       "micronaut.examples.gorm.domains.Person : 2"
      ]
     },
     "execution_count": 3,
     "metadata": {},
     "output_type": "execute_result"
    }
   ],
   "source": [
    "// No friends?? Let's create some.\n",
    "def netty = new Person(firstName: \"Netty\", lastName: \"Dobs\")\n",
    "def fred = new Person(firstName: \"Fred\", lastName: \"Dobs\")\n",
    "netty.friends.add(fred)\n",
    "fred.friends.add(netty)\n",
    "friends.save(netty)\n",
    "friends.save(fred)"
   ]
  },
  {
   "cell_type": "code",
   "execution_count": 4,
   "metadata": {},
   "outputs": [
    {
     "ename": "org.hibernate.HibernateException",
     "evalue": " No Session found for current thread",
     "output_type": "error",
     "text": "org.hibernate.HibernateException: No Session found for current thread\n\tat org.grails.orm.hibernate.GrailsSessionContext.currentSession(GrailsSessionContext.java:112)\n\tat org.hibernate.internal.SessionFactoryImpl.getCurrentSession(SessionFactoryImpl.java:495)\n\tat org.grails.orm.hibernate.HibernateSession.createQuery(HibernateSession.java:185)\n\tat org.grails.orm.hibernate.HibernateSession.createQuery(HibernateSession.java:178)\n\tat org.grails.datastore.gorm.finders.AbstractFindByFinder.buildQuery(AbstractFindByFinder.java:44)\n\tat org.grails.datastore.gorm.finders.AbstractFindByFinder$1.doInSession(AbstractFindByFinder.java:29)\n\tat org.grails.datastore.mapping.core.DatastoreUtils.execute(DatastoreUtils.java:319)\n\tat org.grails.datastore.gorm.finders.AbstractFinder.execute(AbstractFinder.java:42)\n\tat org.grails.datastore.gorm.finders.AbstractFindByFinder.doInvokeInternal(AbstractFindByFinder.java:27)\n\tat org.grails.datastore.gorm.finders.DynamicFinder.invoke(DynamicFinder.java:254)\n\tat org.grails.datastore.gorm.finders.DynamicFinder.invoke(DynamicFinder.java:392)\n\tat org.grails.datastore.gorm.finders.FinderMethod$invoke$0.call(Unknown Source)\n\tat org.grails.datastore.gorm.GormStaticApi.methodMissing(GormStaticApi.groovy:185)\n\tat org.grails.datastore.gorm.GormEntity$Trait$Helper.staticMethodMissing(GormEntity.groovy:777)\n\tat org.grails.datastore.gorm.GormEntity$Trait$Helper$staticMethodMissing$2.call(Unknown Source)\n\tat micronaut.examples.gorm.domains.Person.staticMethodMissing(Person.groovy)\n\tat micronaut.examples.gorm.domains.Person$staticMethodMissing$0.callStatic(Unknown Source)\n\tat micronaut.examples.gorm.domains.Person.$static_methodMissing(Person.groovy)\n\tat java.base/jdk.internal.reflect.NativeMethodAccessorImpl.invoke0(Native Method)\n\tat java.base/jdk.internal.reflect.NativeMethodAccessorImpl.invoke(NativeMethodAccessorImpl.java:62)\n\tat java.base/jdk.internal.reflect.DelegatingMethodAccessorImpl.invoke(DelegatingMethodAccessorImpl.java:43)\n\tat this cell line 2\n\tat ai.stainless.micronaut.jupyter.kernel.MicronautCodeRunner.runScript(MicronautCodeRunner.java:113)\n\tat ai.stainless.micronaut.jupyter.kernel.MicronautCodeRunner.call(MicronautCodeRunner.java:77)\n\tat ai.stainless.micronaut.jupyter.kernel.MicronautCodeRunner.call(MicronautCodeRunner.java:41)\n",
     "traceback": [
      "\u001b[1;31morg.hibernate.HibernateException: No Session found for current thread\u001b[0;0m",
      "\u001b[1;31m\tat org.grails.orm.hibernate.GrailsSessionContext.currentSession(GrailsSessionContext.java:112)\u001b[0;0m",
      "\u001b[1;31m\tat org.hibernate.internal.SessionFactoryImpl.getCurrentSession(SessionFactoryImpl.java:495)\u001b[0;0m",
      "\u001b[1;31m\tat org.grails.orm.hibernate.HibernateSession.createQuery(HibernateSession.java:185)\u001b[0;0m",
      "\u001b[1;31m\tat org.grails.orm.hibernate.HibernateSession.createQuery(HibernateSession.java:178)\u001b[0;0m",
      "\u001b[1;31m\tat org.grails.datastore.gorm.finders.AbstractFindByFinder.buildQuery(AbstractFindByFinder.java:44)\u001b[0;0m",
      "\u001b[1;31m\tat org.grails.datastore.gorm.finders.AbstractFindByFinder$1.doInSession(AbstractFindByFinder.java:29)\u001b[0;0m",
      "\u001b[1;31m\tat org.grails.datastore.mapping.core.DatastoreUtils.execute(DatastoreUtils.java:319)\u001b[0;0m",
      "\u001b[1;31m\tat org.grails.datastore.gorm.finders.AbstractFinder.execute(AbstractFinder.java:42)\u001b[0;0m",
      "\u001b[1;31m\tat org.grails.datastore.gorm.finders.AbstractFindByFinder.doInvokeInternal(AbstractFindByFinder.java:27)\u001b[0;0m",
      "\u001b[1;31m\tat org.grails.datastore.gorm.finders.DynamicFinder.invoke(DynamicFinder.java:254)\u001b[0;0m",
      "\u001b[1;31m\tat org.grails.datastore.gorm.finders.DynamicFinder.invoke(DynamicFinder.java:392)\u001b[0;0m",
      "\u001b[1;31m\tat org.grails.datastore.gorm.finders.FinderMethod$invoke$0.call(Unknown Source)\u001b[0;0m",
      "\u001b[1;31m\tat org.grails.datastore.gorm.GormStaticApi.methodMissing(GormStaticApi.groovy:185)\u001b[0;0m",
      "\u001b[1;31m\tat org.grails.datastore.gorm.GormEntity$Trait$Helper.staticMethodMissing(GormEntity.groovy:777)\u001b[0;0m",
      "\u001b[1;31m\tat org.grails.datastore.gorm.GormEntity$Trait$Helper$staticMethodMissing$2.call(Unknown Source)\u001b[0;0m",
      "\u001b[1;31m\tat micronaut.examples.gorm.domains.Person.staticMethodMissing(Person.groovy)\u001b[0;0m",
      "\u001b[1;31m\tat micronaut.examples.gorm.domains.Person$staticMethodMissing$0.callStatic(Unknown Source)\u001b[0;0m",
      "\u001b[1;31m\tat micronaut.examples.gorm.domains.Person.$static_methodMissing(Person.groovy)\u001b[0;0m",
      "\u001b[1;31m\tat java.base/jdk.internal.reflect.NativeMethodAccessorImpl.invoke0(Native Method)\u001b[0;0m",
      "\u001b[1;31m\tat java.base/jdk.internal.reflect.NativeMethodAccessorImpl.invoke(NativeMethodAccessorImpl.java:62)\u001b[0;0m",
      "\u001b[1;31m\tat java.base/jdk.internal.reflect.DelegatingMethodAccessorImpl.invoke(DelegatingMethodAccessorImpl.java:43)\u001b[0;0m",
      "\u001b[1;31m\tat this cell line 2\u001b[0;0m",
      "\u001b[1;31m\tat ai.stainless.micronaut.jupyter.kernel.MicronautCodeRunner.runScript(MicronautCodeRunner.java:113)\u001b[0;0m",
      "\u001b[1;31m\tat ai.stainless.micronaut.jupyter.kernel.MicronautCodeRunner.call(MicronautCodeRunner.java:77)\u001b[0;0m",
      "\u001b[1;31m\tat ai.stainless.micronaut.jupyter.kernel.MicronautCodeRunner.call(MicronautCodeRunner.java:41)\u001b[0;0m"
     ]
    }
   ],
   "source": [
    "// now, netty and fred are friends\n",
    "def netty = Person.findByFirstNameAndLastName(\"Netty\", \"Dobs\")\n",
    "println \"Netty's friends are: ${netty.friends.collect { \"$it.firstName $it.lastName\" }}\"\n",
    "def fred = Person.findByFirstNameAndLastName(\"Fred\", \"Dobs\")\n",
    "println \"Fred's friends are: ${fred.friends.collect { \"$it.firstName $it.lastName\" }}\""
   ]
  },
  {
   "cell_type": "code",
   "execution_count": 5,
   "metadata": {},
   "outputs": [
    {
     "ename": "org.springframework.dao.DataAccessResourceFailureException",
     "evalue": " Could not obtain current Hibernate Session; nested exception is org.hibernate.HibernateException",
     "output_type": "error",
     "text": "org.springframework.dao.DataAccessResourceFailureException: Could not obtain current Hibernate Session; nested exception is org.hibernate.HibernateException: No Session found for current thread\n\tat org.grails.orm.hibernate.GrailsHibernateTemplate.getSession(GrailsHibernateTemplate.java:335)\n\tat org.grails.orm.hibernate.GrailsHibernateTemplate.doExecute(GrailsHibernateTemplate.java:284)\n\tat org.grails.orm.hibernate.GrailsHibernateTemplate.execute(GrailsHibernateTemplate.java:241)\n\tat org.grails.orm.hibernate.GrailsHibernateTemplate.execute(GrailsHibernateTemplate.java:120)\n\tat org.grails.orm.hibernate.HibernateGormStaticApi.list(HibernateGormStaticApi.groovy:78)\n\tat org.grails.orm.hibernate.HibernateGormStaticApi.list(HibernateGormStaticApi.groovy:77)\n\tat org.grails.datastore.gorm.GormEntity$Trait$Helper.list(GormEntity.groovy:682)\n\tat org.grails.datastore.gorm.GormEntity$Trait$Helper$list.call(Unknown Source)\n\tat micronaut.examples.gorm.domains.Person.list(Person.groovy)\n\tat micronaut.examples.gorm.domains.Person$list.call(Unknown Source)\n\tat this cell line 2\n\tat ai.stainless.micronaut.jupyter.kernel.MicronautCodeRunner.runScript(MicronautCodeRunner.java:113)\n\tat ai.stainless.micronaut.jupyter.kernel.MicronautCodeRunner.call(MicronautCodeRunner.java:77)\n\tat ai.stainless.micronaut.jupyter.kernel.MicronautCodeRunner.call(MicronautCodeRunner.java:41)\nCaused by: org.hibernate.HibernateException: No Session found for current thread\n\tat org.grails.orm.hibernate.GrailsSessionContext.currentSession(GrailsSessionContext.java:112)\n\tat org.hibernate.internal.SessionFactoryImpl.getCurrentSession(SessionFactoryImpl.java:495)\n\tat org.grails.orm.hibernate.GrailsHibernateTemplate.getSession(GrailsHibernateTemplate.java:333)\n\tat org.grails.orm.hibernate.GrailsHibernateTemplate.doExecute(GrailsHibernateTemplate.java:284)\n\tat org.grails.orm.hibernate.GrailsHibernateTemplate.execute(GrailsHibernateTemplate.java:241)\n\tat org.grails.orm.hibernate.GrailsHibernateTemplate.execute(GrailsHibernateTemplate.java:120)\n\tat org.grails.orm.hibernate.HibernateGormStaticApi.list(HibernateGormStaticApi.groovy:78)\n\tat org.grails.orm.hibernate.HibernateGormStaticApi.list(HibernateGormStaticApi.groovy:77)\n\tat org.grails.datastore.gorm.GormEntity$Trait$Helper.list(GormEntity.groovy:682)\n\tat org.grails.datastore.gorm.GormEntity$Trait$Helper$list.call(Unknown Source)\n\tat micronaut.examples.gorm.domains.Person.list(Person.groovy)\n\tat micronaut.examples.gorm.domains.Person$list.call(Unknown Source)\n\tat org.codehaus.groovy.runtime.callsite.CallSiteArray.defaultCall(CallSiteArray.java:47)\n\tat org.codehaus.groovy.runtime.callsite.AbstractCallSite.call(AbstractCallSite.java:115)\n\tat org.codehaus.groovy.runtime.callsite.AbstractCallSite.call(AbstractCallSite.java:119)\n\tat this cell line 2\n\tat ai.stainless.micronaut.jupyter.kernel.MicronautCodeRunner.runScript(MicronautCodeRunner.java:113)\n\tat ai.stainless.micronaut.jupyter.kernel.MicronautCodeRunner.call(MicronautCodeRunner.java:77)\n\tat ai.stainless.micronaut.jupyter.kernel.MicronautCodeRunner.call(MicronautCodeRunner.java:41)\n\tat java.base/java.util.concurrent.FutureTask.run(FutureTask.java:264)\n\tat java.base/java.lang.Thread.run(Thread.java:834)\n",
     "traceback": [
      "\u001b[1;31morg.springframework.dao.DataAccessResourceFailureException: Could not obtain current Hibernate Session; nested exception is org.hibernate.HibernateException: No Session found for current thread\u001b[0;0m",
      "\u001b[1;31m\tat org.grails.orm.hibernate.GrailsHibernateTemplate.getSession(GrailsHibernateTemplate.java:335)\u001b[0;0m",
      "\u001b[1;31m\tat org.grails.orm.hibernate.GrailsHibernateTemplate.doExecute(GrailsHibernateTemplate.java:284)\u001b[0;0m",
      "\u001b[1;31m\tat org.grails.orm.hibernate.GrailsHibernateTemplate.execute(GrailsHibernateTemplate.java:241)\u001b[0;0m",
      "\u001b[1;31m\tat org.grails.orm.hibernate.GrailsHibernateTemplate.execute(GrailsHibernateTemplate.java:120)\u001b[0;0m",
      "\u001b[1;31m\tat org.grails.orm.hibernate.HibernateGormStaticApi.list(HibernateGormStaticApi.groovy:78)\u001b[0;0m",
      "\u001b[1;31m\tat org.grails.orm.hibernate.HibernateGormStaticApi.list(HibernateGormStaticApi.groovy:77)\u001b[0;0m",
      "\u001b[1;31m\tat org.grails.datastore.gorm.GormEntity$Trait$Helper.list(GormEntity.groovy:682)\u001b[0;0m",
      "\u001b[1;31m\tat org.grails.datastore.gorm.GormEntity$Trait$Helper$list.call(Unknown Source)\u001b[0;0m",
      "\u001b[1;31m\tat micronaut.examples.gorm.domains.Person.list(Person.groovy)\u001b[0;0m",
      "\u001b[1;31m\tat micronaut.examples.gorm.domains.Person$list.call(Unknown Source)\u001b[0;0m",
      "\u001b[1;31m\tat this cell line 2\u001b[0;0m",
      "\u001b[1;31m\tat ai.stainless.micronaut.jupyter.kernel.MicronautCodeRunner.runScript(MicronautCodeRunner.java:113)\u001b[0;0m",
      "\u001b[1;31m\tat ai.stainless.micronaut.jupyter.kernel.MicronautCodeRunner.call(MicronautCodeRunner.java:77)\u001b[0;0m",
      "\u001b[1;31m\tat ai.stainless.micronaut.jupyter.kernel.MicronautCodeRunner.call(MicronautCodeRunner.java:41)\u001b[0;0m",
      "\u001b[1;31mCaused by: org.hibernate.HibernateException: No Session found for current thread\u001b[0;0m",
      "\u001b[1;31m\tat org.grails.orm.hibernate.GrailsSessionContext.currentSession(GrailsSessionContext.java:112)\u001b[0;0m",
      "\u001b[1;31m\tat org.hibernate.internal.SessionFactoryImpl.getCurrentSession(SessionFactoryImpl.java:495)\u001b[0;0m",
      "\u001b[1;31m\tat org.grails.orm.hibernate.GrailsHibernateTemplate.getSession(GrailsHibernateTemplate.java:333)\u001b[0;0m",
      "\u001b[1;31m\tat org.grails.orm.hibernate.GrailsHibernateTemplate.doExecute(GrailsHibernateTemplate.java:284)\u001b[0;0m",
      "\u001b[1;31m\tat org.grails.orm.hibernate.GrailsHibernateTemplate.execute(GrailsHibernateTemplate.java:241)\u001b[0;0m",
      "\u001b[1;31m\tat org.grails.orm.hibernate.GrailsHibernateTemplate.execute(GrailsHibernateTemplate.java:120)\u001b[0;0m",
      "\u001b[1;31m\tat org.grails.orm.hibernate.HibernateGormStaticApi.list(HibernateGormStaticApi.groovy:78)\u001b[0;0m",
      "\u001b[1;31m\tat org.grails.orm.hibernate.HibernateGormStaticApi.list(HibernateGormStaticApi.groovy:77)\u001b[0;0m",
      "\u001b[1;31m\tat org.grails.datastore.gorm.GormEntity$Trait$Helper.list(GormEntity.groovy:682)\u001b[0;0m",
      "\u001b[1;31m\tat org.grails.datastore.gorm.GormEntity$Trait$Helper$list.call(Unknown Source)\u001b[0;0m",
      "\u001b[1;31m\tat micronaut.examples.gorm.domains.Person.list(Person.groovy)\u001b[0;0m",
      "\u001b[1;31m\tat micronaut.examples.gorm.domains.Person$list.call(Unknown Source)\u001b[0;0m",
      "\u001b[1;31m\tat org.codehaus.groovy.runtime.callsite.CallSiteArray.defaultCall(CallSiteArray.java:47)\u001b[0;0m",
      "\u001b[1;31m\tat org.codehaus.groovy.runtime.callsite.AbstractCallSite.call(AbstractCallSite.java:115)\u001b[0;0m",
      "\u001b[1;31m\tat org.codehaus.groovy.runtime.callsite.AbstractCallSite.call(AbstractCallSite.java:119)\u001b[0;0m",
      "\u001b[1;31m\tat this cell line 2\u001b[0;0m",
      "\u001b[1;31m\tat ai.stainless.micronaut.jupyter.kernel.MicronautCodeRunner.runScript(MicronautCodeRunner.java:113)\u001b[0;0m",
      "\u001b[1;31m\tat ai.stainless.micronaut.jupyter.kernel.MicronautCodeRunner.call(MicronautCodeRunner.java:77)\u001b[0;0m",
      "\u001b[1;31m\tat ai.stainless.micronaut.jupyter.kernel.MicronautCodeRunner.call(MicronautCodeRunner.java:41)\u001b[0;0m",
      "\u001b[1;31m\tat java.base/java.util.concurrent.FutureTask.run(FutureTask.java:264)\u001b[0;0m",
      "\u001b[1;31m\tat java.base/java.lang.Thread.run(Thread.java:834)\u001b[0;0m"
     ]
    }
   ],
   "source": [
    "// list all of the current people\n",
    "Person.list().collect { it.firstName + \" \" + it.lastName }"
   ]
  },
  {
   "cell_type": "code",
   "execution_count": null,
   "metadata": {},
   "outputs": [],
   "source": []
  }
 ],
 "metadata": {
  "kernelspec": {
   "display_name": "Micronaut",
   "language": "groovy",
   "name": "micronaut"
  },
  "language_info": {
   "codemirror_mode": "groovy",
   "file_extension": ".groovy",
   "mimetype": "",
   "name": "Groovy",
   "nbconverter_exporter": "",
   "version": "2.5.6"
  }
 },
 "nbformat": 4,
 "nbformat_minor": 4
}
