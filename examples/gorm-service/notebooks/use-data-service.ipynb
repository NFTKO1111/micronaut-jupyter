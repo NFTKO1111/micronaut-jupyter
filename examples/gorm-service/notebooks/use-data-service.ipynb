{
 "cells": [
  {
   "cell_type": "code",
   "execution_count": 1,
   "metadata": {},
   "outputs": [
    {
     "data": {
      "text/plain": [
       "micronaut.examples.gorm.services.$FriendServiceImplementation@6631b888"
      ]
     },
     "execution_count": 1,
     "metadata": {},
     "output_type": "execute_result"
    }
   ],
   "source": [
    "// get our data service\n",
    "friends = service micronaut.examples.gorm.services.FriendService"
   ]
  },
  {
   "cell_type": "code",
   "execution_count": 2,
   "metadata": {},
   "outputs": [
    {
     "data": {
      "text/plain": [
       "[]"
      ]
     },
     "execution_count": 2,
     "metadata": {},
     "output_type": "execute_result"
    }
   ],
   "source": [
    "// list all of the current people\n",
    "friends.list().collect { it.firstName + \" \" + it.lastName }"
   ]
  },
  {
   "cell_type": "code",
   "execution_count": 3,
   "metadata": {},
   "outputs": [
    {
     "data": {
      "text/plain": [
       "micronaut.examples.gorm.domains.Person : 2"
      ]
     },
     "execution_count": 3,
     "metadata": {},
     "output_type": "execute_result"
    }
   ],
   "source": [
    "// No friends?? Let's create some.\n",
    "import micronaut.examples.gorm.domains.Person\n",
    "\n",
    "def netty = new Person(firstName: \"Netty\", lastName: \"Dobs\")\n",
    "def fred = new Person(firstName: \"Fred\", lastName: \"Dobs\")\n",
    "netty.friends.add(fred)\n",
    "fred.friends.add(netty)\n",
    "friends.save(netty)\n",
    "friends.save(fred)"
   ]
  },
  {
   "cell_type": "code",
   "execution_count": 4,
   "metadata": {},
   "outputs": [
    {
     "name": "stdout",
     "output_type": "stream",
     "text": [
      "micronaut.examples.gorm.domains.Person : 1\n"
     ]
    },
    {
     "ename": "org.hibernate.LazyInitializationException",
     "evalue": " could not initialize proxy [micronaut.examples.gorm.domains.Person#2] - no Session",
     "output_type": "error",
     "text": "org.hibernate.LazyInitializationException: could not initialize proxy [micronaut.examples.gorm.domains.Person#2] - no Session\n\tat org.hibernate.proxy.AbstractLazyInitializer.initialize(AbstractLazyInitializer.java:170)\n\tat org.hibernate.proxy.AbstractLazyInitializer.getImplementation(AbstractLazyInitializer.java:310)\n\tat org.hibernate.proxy.pojo.bytebuddy.ByteBuddyInterceptor.intercept(ByteBuddyInterceptor.java:45)\n\tat org.hibernate.proxy.ProxyConfiguration$InterceptorDispatcher.intercept(ProxyConfiguration.java:95)\n\tat micronaut.examples.gorm.domains.Person$HibernateProxy$QESshUj1.$getStaticMetaClass(Unknown Source)\n\tat micronaut.examples.gorm.domains.Person.getMetaClass(Person.groovy)\n\tat script1611249276902$_run_closure1.doCall(script1611249276902:4)\n\tat java.base/jdk.internal.reflect.NativeMethodAccessorImpl.invoke0(Native Method)\n\tat java.base/jdk.internal.reflect.NativeMethodAccessorImpl.invoke(NativeMethodAccessorImpl.java:62)\n\tat java.base/jdk.internal.reflect.DelegatingMethodAccessorImpl.invoke(DelegatingMethodAccessorImpl.java:43)\n\tat this cell line 4\n\tat ai.stainless.micronaut.jupyter.kernel.MicronautCodeRunner.runScript(MicronautCodeRunner.java:107)\n\tat ai.stainless.micronaut.jupyter.kernel.MicronautCodeRunner.call(MicronautCodeRunner.java:73)\n\tat ai.stainless.micronaut.jupyter.kernel.MicronautCodeRunner.call(MicronautCodeRunner.java:41)\n",
     "traceback": [
      "\u001b[1;31morg.hibernate.LazyInitializationException: could not initialize proxy [micronaut.examples.gorm.domains.Person#2] - no Session\u001b[0;0m",
      "\u001b[1;31m\tat org.hibernate.proxy.AbstractLazyInitializer.initialize(AbstractLazyInitializer.java:170)\u001b[0;0m",
      "\u001b[1;31m\tat org.hibernate.proxy.AbstractLazyInitializer.getImplementation(AbstractLazyInitializer.java:310)\u001b[0;0m",
      "\u001b[1;31m\tat org.hibernate.proxy.pojo.bytebuddy.ByteBuddyInterceptor.intercept(ByteBuddyInterceptor.java:45)\u001b[0;0m",
      "\u001b[1;31m\tat org.hibernate.proxy.ProxyConfiguration$InterceptorDispatcher.intercept(ProxyConfiguration.java:95)\u001b[0;0m",
      "\u001b[1;31m\tat micronaut.examples.gorm.domains.Person$HibernateProxy$QESshUj1.$getStaticMetaClass(Unknown Source)\u001b[0;0m",
      "\u001b[1;31m\tat micronaut.examples.gorm.domains.Person.getMetaClass(Person.groovy)\u001b[0;0m",
      "\u001b[1;31m\tat script1611249276902$_run_closure1.doCall(script1611249276902:4)\u001b[0;0m",
      "\u001b[1;31m\tat java.base/jdk.internal.reflect.NativeMethodAccessorImpl.invoke0(Native Method)\u001b[0;0m",
      "\u001b[1;31m\tat java.base/jdk.internal.reflect.NativeMethodAccessorImpl.invoke(NativeMethodAccessorImpl.java:62)\u001b[0;0m",
      "\u001b[1;31m\tat java.base/jdk.internal.reflect.DelegatingMethodAccessorImpl.invoke(DelegatingMethodAccessorImpl.java:43)\u001b[0;0m",
      "\u001b[1;31m\tat this cell line 4\u001b[0;0m",
      "\u001b[1;31m\tat ai.stainless.micronaut.jupyter.kernel.MicronautCodeRunner.runScript(MicronautCodeRunner.java:107)\u001b[0;0m",
      "\u001b[1;31m\tat ai.stainless.micronaut.jupyter.kernel.MicronautCodeRunner.call(MicronautCodeRunner.java:73)\u001b[0;0m",
      "\u001b[1;31m\tat ai.stainless.micronaut.jupyter.kernel.MicronautCodeRunner.call(MicronautCodeRunner.java:41)\u001b[0;0m"
     ]
    }
   ],
   "source": [
    "// now, netty and fred are friends\n",
    "def netty = friends.find(\"Netty\", \"Dobs\")\n",
    "println netty\n",
    "println \"Netty's friends are: ${netty.friends.collect { \"$it.firstName $it.lastName\" }}\"\n",
    "def fred = friends.find(\"Fred\", \"Dobs\")\n",
    "println \"Fred's friends are: ${fred.friends.collect { \"$it.firstName $it.lastName\" }}\""
   ]
  },
  {
   "cell_type": "code",
   "execution_count": 5,
   "metadata": {},
   "outputs": [
    {
     "data": {
      "text/plain": [
       "[Netty Dobs, Fred Dobs]"
      ]
     },
     "execution_count": 5,
     "metadata": {},
     "output_type": "execute_result"
    }
   ],
   "source": [
    "// list all of the current people\n",
    "friends.list().collect { it.firstName + \" \" + it.lastName }"
   ]
  },
  {
   "cell_type": "code",
   "execution_count": null,
   "metadata": {},
   "outputs": [],
   "source": []
  }
 ],
 "metadata": {
  "kernelspec": {
   "display_name": "Micronaut",
   "language": "groovy",
   "name": "micronaut"
  },
  "language_info": {
   "codemirror_mode": "groovy",
   "file_extension": ".groovy",
   "mimetype": "",
   "name": "Groovy",
   "nbconverter_exporter": "",
   "version": "2.5.6"
  }
 },
 "nbformat": 4,
 "nbformat_minor": 4
}
