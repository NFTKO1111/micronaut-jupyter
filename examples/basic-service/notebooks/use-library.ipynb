{
 "cells": [
  {
   "cell_type": "markdown",
   "metadata": {},
   "source": [
    "This notebook uses a library that is a part of the Micronaut application."
   ]
  },
  {
   "cell_type": "code",
   "execution_count": null,
   "metadata": {},
   "outputs": [],
   "source": [
    "%import micronaut.examples.basic.library.Workflow\n",
    "%import org.slf4j.LoggerFactory"
   ]
  },
  {
   "cell_type": "code",
   "execution_count": null,
   "metadata": {},
   "outputs": [],
   "source": [
    "log = LoggerFactory.getLogger(\"jupyter.notebooks.basic.library\")"
   ]
  },
  {
   "cell_type": "code",
   "execution_count": null,
   "metadata": {},
   "outputs": [],
   "source": [
    "workflow = new Workflow()\n",
    "workflow.build {\n",
    "    add { it * 5 }\n",
    "    add { it / 3 }\n",
    "    add { it + 100 }\n",
    "    add { it / 5 }\n",
    "}\n",
    "\n",
    "log.info \"Created workflow: $workflow\""
   ]
  },
  {
   "cell_type": "code",
   "execution_count": null,
   "metadata": {},
   "outputs": [],
   "source": [
    "log.info \"Executing workflow: $workflow\"\n",
    "def result = workflow.execute(100)\n",
    "log.info \"Execution result: $result, status: ${workflow.ops.first().status} -> ${workflow.ops.last().status}\"\n",
    "result"
   ]
  },
  {
   "cell_type": "code",
   "execution_count": null,
   "metadata": {},
   "outputs": [],
   "source": [
    "workflow.ops.last().status"
   ]
  },
  {
   "cell_type": "code",
   "execution_count": null,
   "metadata": {},
   "outputs": [],
   "source": []
  }
 ],
 "metadata": {
  "kernelspec": {
   "display_name": "Micronaut",
   "language": "groovy",
   "name": "micronaut"
  },
  "language_info": {
   "codemirror_mode": "groovy",
   "file_extension": ".groovy",
   "mimetype": "",
   "name": "Groovy",
   "nbconverter_exporter": "",
   "version": "2.5.6"
  }
 },
 "nbformat": 4,
 "nbformat_minor": 4
}
